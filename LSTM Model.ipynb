{
 "metadata": {
  "language_info": {
   "codemirror_mode": {
    "name": "ipython",
    "version": 3
   },
   "file_extension": ".py",
   "mimetype": "text/x-python",
   "name": "python",
   "nbconvert_exporter": "python",
   "pygments_lexer": "ipython3",
   "version": 3
  },
  "orig_nbformat": 2,
  "kernelspec": {
   "name": "python_defaultSpec_1596507263429",
   "display_name": "Python 3.7.6 64-bit ('base': conda)"
  }
 },
 "nbformat": 4,
 "nbformat_minor": 2,
 "cells": [
  {
   "cell_type": "code",
   "execution_count": 1,
   "metadata": {},
   "outputs": [],
   "source": [
    "import numpy as np\n",
    "import pandas as pd"
   ]
  },
  {
   "cell_type": "code",
   "execution_count": 2,
   "metadata": {},
   "outputs": [],
   "source": [
    "#load the train data\n",
    "d1= pd.read_csv(\"UCI_HAR_Dataset/train/Inertial_Signals/body_acc_x_train.txt\",delim_whitespace=True, header=None )\n",
    "d2= pd.read_csv(\"UCI_HAR_Dataset/train/Inertial_Signals/body_acc_y_train.txt\",delim_whitespace=True, header=None )\n",
    "d3= pd.read_csv(\"UCI_HAR_Dataset/train/Inertial_Signals/body_acc_z_train.txt\",delim_whitespace=True, header=None )\n",
    "d4= pd.read_csv(\"UCI_HAR_Dataset/train/Inertial_Signals/body_gyro_x_train.txt\",delim_whitespace=True, header=None )\n",
    "d5= pd.read_csv(\"UCI_HAR_Dataset/train/Inertial_Signals/body_gyro_y_train.txt\",delim_whitespace=True, header=None )\n",
    "d6= pd.read_csv(\"UCI_HAR_Dataset/train/Inertial_Signals/body_gyro_z_train.txt\",delim_whitespace=True, header=None )\n",
    "d7= pd.read_csv(\"UCI_HAR_Dataset/train/Inertial_Signals/total_acc_x_train.txt\",delim_whitespace=True, header=None )\n",
    "d8= pd.read_csv(\"UCI_HAR_Dataset/train/Inertial_Signals/total_acc_y_train.txt\",delim_whitespace=True, header=None )\n",
    "d9= pd.read_csv(\"UCI_HAR_Dataset/train/Inertial_Signals/total_acc_z_train.txt\",delim_whitespace=True, header=None )"
   ]
  },
  {
   "cell_type": "code",
   "execution_count": 3,
   "metadata": {},
   "outputs": [],
   "source": [
    "data=[d1,d2,d3,d4,d5,d6,d7,d8,d9]\n",
    "xtrain=[]\n",
    "for i in data:\n",
    "    xtrain.append(np.array(i))\n",
    "xtrain=np.array(xtrain)\n",
    "xtrain= np.transpose(xtrain,(1,2,0))"
   ]
  },
  {
   "cell_type": "code",
   "execution_count": 4,
   "metadata": {},
   "outputs": [],
   "source": [
    "ytrain=pd.read_csv(\"UCI_HAR_Dataset/train/y_train.txt\",delim_whitespace=True, header=None)[0]\n",
    "ytrain= pd.get_dummies(ytrain)\n",
    "ytrain=np.array(ytrain)"
   ]
  },
  {
   "cell_type": "code",
   "execution_count": 5,
   "metadata": {},
   "outputs": [
    {
     "output_type": "execute_result",
     "data": {
      "text/plain": "(7352, 6)"
     },
     "metadata": {},
     "execution_count": 5
    }
   ],
   "source": [
    "ytrain.shape"
   ]
  },
  {
   "cell_type": "code",
   "execution_count": 6,
   "metadata": {},
   "outputs": [],
   "source": [
    "#load the test data\n",
    "dt1= pd.read_csv(\"UCI_HAR_Dataset/test/Inertial_Signals/body_acc_x_test.txt\",delim_whitespace=True, header=None )\n",
    "dt2= pd.read_csv(\"UCI_HAR_Dataset/test/Inertial_Signals/body_acc_y_test.txt\",delim_whitespace=True, header=None )\n",
    "dt3= pd.read_csv(\"UCI_HAR_Dataset/test/Inertial_Signals/body_acc_z_test.txt\",delim_whitespace=True, header=None )\n",
    "dt4= pd.read_csv(\"UCI_HAR_Dataset/test/Inertial_Signals/body_gyro_x_test.txt\",delim_whitespace=True, header=None )\n",
    "dt5= pd.read_csv(\"UCI_HAR_Dataset/test/Inertial_Signals/body_gyro_y_test.txt\",delim_whitespace=True, header=None )\n",
    "dt6= pd.read_csv(\"UCI_HAR_Dataset/test/Inertial_Signals/body_gyro_z_test.txt\",delim_whitespace=True, header=None )\n",
    "dt7= pd.read_csv(\"UCI_HAR_Dataset/test/Inertial_Signals/total_acc_x_test.txt\",delim_whitespace=True, header=None )\n",
    "dt8= pd.read_csv(\"UCI_HAR_Dataset/test/Inertial_Signals/total_acc_y_test.txt\",delim_whitespace=True, header=None )\n",
    "dt9= pd.read_csv(\"UCI_HAR_Dataset/test/Inertial_Signals/total_acc_z_test.txt\",delim_whitespace=True, header=None )"
   ]
  },
  {
   "cell_type": "code",
   "execution_count": 7,
   "metadata": {},
   "outputs": [],
   "source": [
    "data2=[dt1,dt2,dt3,dt4,dt5,dt6,dt7,dt8,dt9]\n",
    "xtest=[]\n",
    "for i in data2:\n",
    "    xtest.append(np.array(i))\n",
    "xtest=np.array(xtest)\n",
    "xtest= np.transpose(xtest,(1,2,0))"
   ]
  },
  {
   "cell_type": "code",
   "execution_count": 8,
   "metadata": {},
   "outputs": [],
   "source": [
    "ytest=pd.read_csv(\"UCI_HAR_Dataset/test/y_test.txt\",delim_whitespace=True, header=None)[0]\n",
    "ytest= pd.get_dummies(ytest)\n",
    "ytest=np.array(ytest)"
   ]
  },
  {
   "cell_type": "code",
   "execution_count": 9,
   "metadata": {},
   "outputs": [
    {
     "output_type": "execute_result",
     "data": {
      "text/plain": "(2947, 6)"
     },
     "metadata": {},
     "execution_count": 9
    }
   ],
   "source": [
    "ytest.shape"
   ]
  },
  {
   "cell_type": "code",
   "execution_count": 10,
   "metadata": {},
   "outputs": [],
   "source": [
    "from keras import backend as K\n",
    "from keras.models import Sequential\n",
    "from keras.layers import LSTM\n",
    "from keras.layers.core import Dense, Dropout"
   ]
  },
  {
   "cell_type": "code",
   "execution_count": 32,
   "metadata": {},
   "outputs": [],
   "source": [
    "# Initializing parameters\n",
    "epochs = 30\n",
    "batch_size = 16\n",
    "n_hidden = 64"
   ]
  },
  {
   "cell_type": "code",
   "execution_count": 15,
   "metadata": {
    "tags": []
   },
   "outputs": [
    {
     "output_type": "stream",
     "name": "stdout",
     "text": "128\n9\n7352\n"
    }
   ],
   "source": [
    "timesteps = len(xtrain[0])\n",
    "input_dim = len(xtrain[0][0])\n",
    "n_classes= 6\n",
    "print(timesteps)\n",
    "print(input_dim)\n",
    "print(len(xtrain))"
   ]
  },
  {
   "cell_type": "code",
   "execution_count": 37,
   "metadata": {
    "tags": []
   },
   "outputs": [
    {
     "output_type": "stream",
     "name": "stdout",
     "text": "Model: \"sequential_8\"\n_________________________________________________________________\nLayer (type)                 Output Shape              Param #   \n=================================================================\nlstm_11 (LSTM)               (None, 64)                18944     \n_________________________________________________________________\ndropout_10 (Dropout)         (None, 64)                0         \n_________________________________________________________________\ndense_4 (Dense)              (None, 6)                 390       \n=================================================================\nTotal params: 19,334\nTrainable params: 19,334\nNon-trainable params: 0\n_________________________________________________________________\n"
    }
   ],
   "source": [
    "# Initiliazing the sequential model\n",
    "model = Sequential()\n",
    "# Configuring the parameters\n",
    "model.add(LSTM(n_hidden, input_shape=(timesteps, input_dim)))\n",
    "# Adding a dropout layer\n",
    "model.add(Dropout(0.7))\n",
    "\n",
    "#model.add(LSTM(n_hidden))\n",
    "\n",
    "#model.add(Dropout(0.5))\n",
    "# Adding a dense output layer with sigmoid activation\n",
    "model.add(Dense(n_classes, activation='sigmoid'))\n",
    "model.summary()"
   ]
  },
  {
   "cell_type": "code",
   "execution_count": 38,
   "metadata": {},
   "outputs": [],
   "source": [
    "# Compiling the model\n",
    "model.compile(loss='categorical_crossentropy', optimizer='rmsprop', metrics=['accuracy'])"
   ]
  },
  {
   "cell_type": "code",
   "execution_count": 39,
   "metadata": {
    "tags": []
   },
   "outputs": [
    {
     "output_type": "stream",
     "name": "stdout",
     "text": "Epoch 1/30\n460/460 [==============================] - 12s 27ms/step - loss: 1.2094 - accuracy: 0.4993 - val_loss: 0.9873 - val_accuracy: 0.5609\nEpoch 2/30\n460/460 [==============================] - 12s 26ms/step - loss: 0.8383 - accuracy: 0.6421 - val_loss: 0.7747 - val_accuracy: 0.6257\nEpoch 3/30\n460/460 [==============================] - 12s 26ms/step - loss: 0.7217 - accuracy: 0.6810 - val_loss: 0.7052 - val_accuracy: 0.6994\nEpoch 4/30\n460/460 [==============================] - 12s 25ms/step - loss: 0.6922 - accuracy: 0.7069 - val_loss: 0.6914 - val_accuracy: 0.6977\nEpoch 5/30\n460/460 [==============================] - 11s 25ms/step - loss: 0.5566 - accuracy: 0.7669 - val_loss: 0.4690 - val_accuracy: 0.7628\nEpoch 6/30\n460/460 [==============================] - 11s 25ms/step - loss: 0.4821 - accuracy: 0.7965 - val_loss: 0.4976 - val_accuracy: 0.7655\nEpoch 7/30\n460/460 [==============================] - 11s 25ms/step - loss: 0.4316 - accuracy: 0.8241 - val_loss: 0.4489 - val_accuracy: 0.8551\nEpoch 8/30\n460/460 [==============================] - 11s 25ms/step - loss: 0.3477 - accuracy: 0.8911 - val_loss: 0.4445 - val_accuracy: 0.8646\nEpoch 9/30\n460/460 [==============================] - 11s 25ms/step - loss: 0.2842 - accuracy: 0.9184 - val_loss: 0.4898 - val_accuracy: 0.8592\nEpoch 10/30\n460/460 [==============================] - 11s 25ms/step - loss: 0.2532 - accuracy: 0.9255 - val_loss: 0.4754 - val_accuracy: 0.8819\nEpoch 11/30\n460/460 [==============================] - 11s 25ms/step - loss: 0.2196 - accuracy: 0.9319 - val_loss: 0.5204 - val_accuracy: 0.8585\nEpoch 12/30\n460/460 [==============================] - 11s 25ms/step - loss: 0.2015 - accuracy: 0.9365 - val_loss: 0.3343 - val_accuracy: 0.9033\nEpoch 13/30\n460/460 [==============================] - 11s 25ms/step - loss: 0.2059 - accuracy: 0.9354 - val_loss: 0.3664 - val_accuracy: 0.8992\nEpoch 14/30\n460/460 [==============================] - 11s 25ms/step - loss: 0.2170 - accuracy: 0.9351 - val_loss: 0.3757 - val_accuracy: 0.9036\nEpoch 15/30\n460/460 [==============================] - 11s 25ms/step - loss: 0.2010 - accuracy: 0.9376 - val_loss: 0.4597 - val_accuracy: 0.8877\nEpoch 16/30\n460/460 [==============================] - 11s 25ms/step - loss: 0.1814 - accuracy: 0.9423 - val_loss: 0.3650 - val_accuracy: 0.9002\nEpoch 17/30\n460/460 [==============================] - 11s 25ms/step - loss: 0.1928 - accuracy: 0.9358 - val_loss: 0.2943 - val_accuracy: 0.9057\nEpoch 18/30\n460/460 [==============================] - 11s 25ms/step - loss: 0.1913 - accuracy: 0.9389 - val_loss: 0.3785 - val_accuracy: 0.9070\nEpoch 19/30\n460/460 [==============================] - 11s 25ms/step - loss: 0.1762 - accuracy: 0.9449 - val_loss: 0.3199 - val_accuracy: 0.9148\nEpoch 20/30\n460/460 [==============================] - 12s 25ms/step - loss: 0.1644 - accuracy: 0.9418 - val_loss: 0.4922 - val_accuracy: 0.9050\nEpoch 21/30\n460/460 [==============================] - 11s 25ms/step - loss: 0.1725 - accuracy: 0.9444 - val_loss: 0.4270 - val_accuracy: 0.8924\nEpoch 22/30\n460/460 [==============================] - 12s 25ms/step - loss: 0.1786 - accuracy: 0.9472 - val_loss: 0.4150 - val_accuracy: 0.9053\nEpoch 23/30\n460/460 [==============================] - 11s 25ms/step - loss: 0.1638 - accuracy: 0.9471 - val_loss: 0.3191 - val_accuracy: 0.8999\nEpoch 24/30\n460/460 [==============================] - 11s 25ms/step - loss: 0.1625 - accuracy: 0.9446 - val_loss: 0.3707 - val_accuracy: 0.9036\nEpoch 25/30\n460/460 [==============================] - 12s 25ms/step - loss: 0.1625 - accuracy: 0.9465 - val_loss: 0.3250 - val_accuracy: 0.8996\nEpoch 26/30\n460/460 [==============================] - 11s 25ms/step - loss: 0.1676 - accuracy: 0.9479 - val_loss: 0.3646 - val_accuracy: 0.9189\nEpoch 27/30\n460/460 [==============================] - 12s 25ms/step - loss: 0.1625 - accuracy: 0.9448 - val_loss: 0.4697 - val_accuracy: 0.8945\nEpoch 28/30\n460/460 [==============================] - 11s 25ms/step - loss: 0.1702 - accuracy: 0.9449 - val_loss: 0.4116 - val_accuracy: 0.9141\nEpoch 29/30\n460/460 [==============================] - 12s 25ms/step - loss: 0.2020 - accuracy: 0.9419 - val_loss: 0.3242 - val_accuracy: 0.8982\nEpoch 30/30\n460/460 [==============================] - 11s 25ms/step - loss: 0.1529 - accuracy: 0.9484 - val_loss: 0.4538 - val_accuracy: 0.9070\n"
    },
    {
     "output_type": "execute_result",
     "data": {
      "text/plain": "<tensorflow.python.keras.callbacks.History at 0x7f6b88730f50>"
     },
     "metadata": {},
     "execution_count": 39
    }
   ],
   "source": [
    "model.fit(xtrain,ytrain, batch_size=batch_size, validation_data=(xtest, ytest), epochs=epochs)"
   ]
  },
  {
   "cell_type": "code",
   "execution_count": 23,
   "metadata": {},
   "outputs": [],
   "source": [
    "ACTIVITIES = {\n",
    "    0: 'WALKING',\n",
    "    1: 'WALKING_UPSTAIRS',\n",
    "    2: 'WALKING_DOWNSTAIRS',\n",
    "    3: 'SITTING',\n",
    "    4: 'STANDING',\n",
    "    5: 'LAYING',\n",
    "}\n",
    "\n",
    "def confusion_matrix(Y_true, Y_pred):\n",
    "    Y_true = pd.Series([ACTIVITIES[y] for y in np.argmax(Y_true, axis=1)])\n",
    "    Y_pred = pd.Series([ACTIVITIES[y] for y in np.argmax(Y_pred, axis=1)])\n",
    "\n",
    "    return pd.crosstab(Y_true, Y_pred, rownames=['True'], colnames=['Pred'])"
   ]
  },
  {
   "cell_type": "code",
   "execution_count": 24,
   "metadata": {
    "tags": []
   },
   "outputs": [
    {
     "output_type": "stream",
     "name": "stdout",
     "text": "Pred                LAYING  SITTING  STANDING  WALKING  WALKING_DOWNSTAIRS  \\\nTrue                                                                         \nLAYING                 510        0        27        0                   0   \nSITTING                  0      384       105        0                   0   \nSTANDING                 0       77       454        1                   0   \nWALKING                  0        1         0      471                   7   \nWALKING_DOWNSTAIRS       0        0         0        7                 410   \nWALKING_UPSTAIRS         0        1         0       17                   5   \n\nPred                WALKING_UPSTAIRS  \nTrue                                  \nLAYING                             0  \nSITTING                            2  \nSTANDING                           0  \nWALKING                           17  \nWALKING_DOWNSTAIRS                 3  \nWALKING_UPSTAIRS                 448  \n"
    }
   ],
   "source": [
    "# Confusion Matrix\n",
    "print(confusion_matrix(ytest, model.predict(xtest)))"
   ]
  },
  {
   "cell_type": "markdown",
   "metadata": {},
   "source": [
    "From the above we can see that there is still some confusion between the SITTING and STANDING activities. But if we look at our model architecture, we have only 1 layer of LSTM, and that alone gave an accuracy of 90%. The reason why I chose only 1 layer is because it is very easy for LSTM to overfit. Also, we only have around 7000 data points which are quite less."
   ]
  },
  {
   "cell_type": "code",
   "execution_count": 25,
   "metadata": {
    "tags": []
   },
   "outputs": [
    {
     "output_type": "stream",
     "name": "stdout",
     "text": "93/93 [==============================] - 1s 6ms/step - loss: 0.3731 - accuracy: 0.9084\n"
    }
   ],
   "source": [
    "score = model.evaluate(xtest, ytest)"
   ]
  },
  {
   "cell_type": "code",
   "execution_count": null,
   "metadata": {},
   "outputs": [],
   "source": []
  }
 ]
}